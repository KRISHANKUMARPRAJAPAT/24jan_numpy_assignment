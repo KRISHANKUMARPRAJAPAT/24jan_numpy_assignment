{
 "cells": [
  {
   "cell_type": "markdown",
   "id": "14198f59-b50f-4c45-b566-b69ba0909554",
   "metadata": {},
   "source": [
    "# Q1. What is a Python library? Why do we use Python libraries?"
   ]
  },
  {
   "cell_type": "markdown",
   "id": "39467aac-b46b-4a2a-a535-82a369283432",
   "metadata": {},
   "source": [
    "# Ans:1 \n",
    "**What is the Python Library?**\n",
    "\n",
    "A Python library is a collection of pre-written code and functionalities that can be used by developers to perform common tasks without having to write the code from scratch. These libraries are designed to be reusable and provide a set of functions, modules, and classes that address specific needs. Python, being a versatile programming language, has a rich ecosystem of libraries that cover a wide range of domains such as data analysis, machine learning, web development, and more.\n",
    "\n",
    "  **Here are some key reasons why we use Python libraries:**\n",
    "\n",
    "- `Efficiency:` Libraries save time and effort by providing pre-implemented solutions for common tasks. Developers can leverage existing code rather than reinventing the wheel, leading to faster development cycles.\n",
    "\n",
    "- `Productivity:` Python libraries enhance productivity by allowing developers to focus on higher-level aspects of their projects. With ready-made functions and modules, they can build on a solid foundation and achieve more in less time.\n",
    "\n",
    "- `Community Support:` The Python community actively contributes to the development of libraries. This means that there is a wealth of collective knowledge and expertise available, making it easier to find solutions to problems and share best practices.\n",
    "\n",
    "- `Quality and Reliability:` Well-established Python libraries are often thoroughly tested and optimized for performance. This helps ensure the reliability and quality of the code, reducing the likelihood of errors and bugs.\n",
    "\n",
    "- `Domain-specific Functionality:` Python libraries cater to various domains, such as data science, machine learning, web development, and more. These specialized libraries provide tools and functions tailored to specific needs, enabling developers to work efficiently within their chosen field.\n",
    "\n",
    "- `Open Source Collaboration:` Many Python libraries are open source, allowing developers to inspect, modify, and contribute to the codebase. This collaborative nature fosters innovation and continuous improvement within the community.\n",
    "\n",
    "- `Interoperability:` Python libraries are designed to work seamlessly with each other, promoting interoperability. Developers can combine functionalities from different libraries to create powerful and integrated solutions."
   ]
  },
  {
   "cell_type": "code",
   "execution_count": null,
   "id": "940f426f-4815-452b-9b9d-023fc3623234",
   "metadata": {},
   "outputs": [],
   "source": []
  },
  {
   "cell_type": "markdown",
   "id": "86bb9145-1d6d-4454-9339-0d406398b9e4",
   "metadata": {},
   "source": [
    "# Q2. What is the difference between Numpy array and List?"
   ]
  },
  {
   "cell_type": "markdown",
   "id": "7bad5467-9fb2-4677-b5d4-b1e9886f0e18",
   "metadata": {},
   "source": [
    "# Ans: 2 \n",
    "\n",
    "Numpy arrays and lists in Python are both used to store collections of data, but they have some fundamental differences in terms of functionality, performance, and usage. \n",
    "\n",
    "**Here are some key distinctions:**\n",
    "\n",
    "**1.Data Type:**\n",
    "\n",
    "- `List:` Lists in Python can hold elements of different data types. You can have a mix of integers, floats, strings, and other objects in a single list.\n",
    "- `Numpy Array:` Numpy arrays, on the other hand, are homogeneous, meaning all elements must be of the same data type. This homogeneity allows for more efficient storage and operations.\n",
    "\n",
    "\n",
    "**2.Performance:**\n",
    "\n",
    "- `List:` Lists are general-purpose and versatile, but they are not optimized for numerical operations. Iterating through a list can be slower for large datasets.\n",
    "- `Numpy Array:` Numpy arrays are designed for numerical operations and are implemented in C, which makes them more efficient for numerical computations. Numpy operations are vectorized, meaning they operate on entire arrays at once, leading to better performance compared to element-wise operations on lists.\n",
    "\n",
    "\n",
    "**3.Memory Efficiency:**\n",
    "\n",
    "- `List:` Lists in Python have more overhead in terms of memory usage because they store additional information, such as the type of each element and the size of the list.\n",
    "- `Numpy Array:` Numpy arrays are more memory-efficient as they use a contiguous block of memory to store data and require less overhead.\n",
    "\n",
    "**4.Convenience and Expressiveness:**\n",
    "\n",
    "- `List:` Lists are more flexible and easier to work with for general-purpose tasks. They support a variety of methods and can be easily modified (appending, inserting, deleting elements).\n",
    "- `Numpy Array:` Numpy arrays are optimized for numerical operations, providing a wide range of mathematical functions that can be applied to entire arrays. They are less flexible than lists in terms of modification but excel in numerical computations.\n",
    "\n",
    "\n",
    "**5.Functionality:**\n",
    "\n",
    "- `List:` Lists offer a broader range of functionalities, including versatile methods for manipulation, slicing, and iteration.\n",
    "- `Numpy Array:` Numpy arrays provide specialized functions for mathematical operations, such as linear algebra, statistical analysis, and mathematical functions."
   ]
  },
  {
   "cell_type": "code",
   "execution_count": null,
   "id": "e5b4bb4d-d42c-475b-a3c8-234b670e80ae",
   "metadata": {},
   "outputs": [],
   "source": []
  },
  {
   "cell_type": "markdown",
   "id": "ecfb02f2-45d7-4b97-ae30-3f1aed1eedd0",
   "metadata": {},
   "source": [
    "# Q3. Find the shape, size and dimension of the following array?\n",
    "[[1, 2, 3, 4]\n",
    "\n",
    "[5, 6, 7, 8],\n",
    "\n",
    "[9, 10, 11, 12]]"
   ]
  },
  {
   "cell_type": "code",
   "execution_count": 1,
   "id": "6751b777-bcf1-444e-a920-f2b8dc2933e9",
   "metadata": {},
   "outputs": [
    {
     "name": "stdout",
     "output_type": "stream",
     "text": [
      "Shape of array is: (3, 4)\n",
      "Size of array is: 12\n",
      "Dimension of array is: 2\n"
     ]
    }
   ],
   "source": [
    "# Ans:3\n",
    "\n",
    "import numpy as np \n",
    "\n",
    "arr = np.array([[1, 2, 3, 4],\n",
    "                [5, 6, 7, 8],\n",
    "                [9, 10, 11, 12]])\n",
    "                    \n",
    "# shape of the array \n",
    "shape = arr.shape\n",
    "\n",
    "# size of array \n",
    "size = arr.size\n",
    "\n",
    "# Dimension of array\n",
    "D = arr.ndim\n",
    "\n",
    "print('Shape of array is:', shape)\n",
    "print('Size of array is:', size)\n",
    "print('Dimension of array is:', D)"
   ]
  },
  {
   "cell_type": "code",
   "execution_count": null,
   "id": "a91078c3-42d7-46b4-95f7-cce96529aead",
   "metadata": {},
   "outputs": [],
   "source": []
  },
  {
   "cell_type": "markdown",
   "id": "019bb0b6-e2e6-4578-82a2-56230c9db5e1",
   "metadata": {},
   "source": [
    "# Q4. Write python code to access the first row of the following array?\n",
    "[[1, 2, 3, 4]\n",
    "\n",
    "[5, 6, 7, 8],\n",
    "\n",
    "[9, 10, 11, 12]]"
   ]
  },
  {
   "cell_type": "code",
   "execution_count": 2,
   "id": "3e6eb2f0-413b-4f3e-bbff-bb0f3c6fffad",
   "metadata": {},
   "outputs": [
    {
     "name": "stdout",
     "output_type": "stream",
     "text": [
      "Frist Row of the Array is: [1 2 3 4]\n"
     ]
    }
   ],
   "source": [
    "# Ans: 4 \n",
    "\n",
    "arr = np.array([[1, 2, 3, 4],\n",
    "                [5, 6, 7, 8],\n",
    "                [9, 10, 11, 12]])\n",
    "\n",
    "row_1 = arr[0]\n",
    "print('Frist Row of the Array is:', row_1)"
   ]
  },
  {
   "cell_type": "code",
   "execution_count": null,
   "id": "a615a385-0c1d-4901-829f-4792e3db3aa0",
   "metadata": {},
   "outputs": [],
   "source": []
  },
  {
   "cell_type": "markdown",
   "id": "3f526004-7c5d-4463-89ab-b9ef08fa34f4",
   "metadata": {},
   "source": [
    "# Q5. How do you access the element at the third row and fourth column from the given numpy array?\n",
    "[[1, 2, 3, 4]\n",
    "\n",
    "[5, 6, 7, 8],\n",
    "\n",
    "[9, 10, 11, 12]]"
   ]
  },
  {
   "cell_type": "code",
   "execution_count": 3,
   "id": "ca152d34-60bf-4577-9977-a1b82c22c952",
   "metadata": {},
   "outputs": [
    {
     "name": "stdout",
     "output_type": "stream",
     "text": [
      "Element at the third row and fourth column is: 12\n"
     ]
    }
   ],
   "source": [
    "# Ans: 5 \n",
    "\n",
    "arr = np.array([[1, 2, 3, 4],\n",
    "                [5, 6, 7, 8],\n",
    "                [9, 10, 11, 12]])\n",
    "\n",
    "element = arr[2,3]\n",
    "print('Element at the third row and fourth column is:', element)"
   ]
  },
  {
   "cell_type": "code",
   "execution_count": null,
   "id": "d71e1063-9f9c-4757-ab56-3ad8c6550d10",
   "metadata": {},
   "outputs": [],
   "source": []
  },
  {
   "cell_type": "markdown",
   "id": "2e64c743-5bbf-4577-9b5e-8742573fa2dd",
   "metadata": {},
   "source": [
    "# Q6. Write code to extract all odd-indexed elements from the given numpy array?\n",
    "[[1, 2, 3, 4]\n",
    "\n",
    "[5, 6, 7, 8],\n",
    "\n",
    "[9, 10, 11, 12]]"
   ]
  },
  {
   "cell_type": "code",
   "execution_count": 4,
   "id": "91ec7feb-5890-4d89-b00f-fabd771a634a",
   "metadata": {},
   "outputs": [
    {
     "name": "stdout",
     "output_type": "stream",
     "text": [
      "Odd-Indexed Elements: [ 2  4  6  8 10 12]\n"
     ]
    }
   ],
   "source": [
    "# Ans: 6\n",
    "\n",
    "arr = np.array([[1, 2, 3, 4],\n",
    "                [5, 6, 7, 8],\n",
    "                [9, 10, 11, 12]])\n",
    "\n",
    "# Extracting all odd-indexed elements\n",
    "odd_elements = arr[:, 1::2].flatten()    # flatten is used to convert the resulting 2D array into a 1D array.\n",
    "\n",
    "print(\"Odd-Indexed Elements:\", odd_elements)"
   ]
  },
  {
   "cell_type": "code",
   "execution_count": null,
   "id": "e683951f-a2f6-47be-8da1-b978d5a5f4ea",
   "metadata": {},
   "outputs": [],
   "source": []
  },
  {
   "cell_type": "markdown",
   "id": "be480f52-3a64-4289-b259-d87e7e2b0e53",
   "metadata": {},
   "source": [
    "# Q7. How can you generate a random 3x3 matrix with values between 0 and 1?"
   ]
  },
  {
   "cell_type": "code",
   "execution_count": 5,
   "id": "9595baf3-7034-4e47-8532-174fe17b193b",
   "metadata": {},
   "outputs": [
    {
     "name": "stdout",
     "output_type": "stream",
     "text": [
      "Random 3x3 Matrix:\n",
      "[[0.88141548 0.80889295 0.21781634]\n",
      " [0.76181583 0.54216097 0.00280662]\n",
      " [0.67438852 0.51467587 0.7819966 ]]\n"
     ]
    }
   ],
   "source": [
    "# Ans:7 \n",
    "\n",
    "# generate a random 3x3 matrix with values between 0 and 1\n",
    "random_matrix = np.random.rand(3, 3)\n",
    "\n",
    "print(\"Random 3x3 Matrix:\")\n",
    "print(random_matrix)"
   ]
  },
  {
   "cell_type": "code",
   "execution_count": null,
   "id": "1d055883-c2b9-47fc-a336-14c4901bdf37",
   "metadata": {},
   "outputs": [],
   "source": []
  },
  {
   "cell_type": "markdown",
   "id": "173ed86e-d0a6-45b7-b0f0-76c33340489b",
   "metadata": {},
   "source": [
    "# Q8. Describe the difference between np.random.rand and np.random.randn?"
   ]
  },
  {
   "cell_type": "markdown",
   "id": "c12080cf-2370-420a-a63d-1a262d0cfd17",
   "metadata": {},
   "source": [
    "Ans: 8 \n",
    "\n",
    "np.random.rand and np.random.randn are both functions from the NumPy library in Python that generate random numbers, but they differ in how they distribute those numbers.\n",
    "\n",
    "**np.random.rand:**\n",
    "\n",
    "- `Distribution:` It generates random numbers from a uniform distribution over the interval [0, 1).\n",
    "- `Arguments:` You pass the dimensions of the array you want as arguments (e.g., np.random.rand(3, 3) for a 3x3 matrix).\n",
    "- `Values:` All values are equally likely to occur, and each value has an equal probability of being chosen."
   ]
  },
  {
   "cell_type": "code",
   "execution_count": 6,
   "id": "45d5f569-bc40-413f-bcd4-aa3da3280735",
   "metadata": {},
   "outputs": [
    {
     "data": {
      "text/plain": [
       "array([[0.19120184, 0.94394127, 0.25807911],\n",
       "       [0.68273318, 0.43634009, 0.64633322],\n",
       "       [0.86141569, 0.75691532, 0.98669427]])"
      ]
     },
     "execution_count": 6,
     "metadata": {},
     "output_type": "execute_result"
    }
   ],
   "source": [
    "# for example \n",
    "random_matrix = np.random.rand(3, 3)\n",
    "random_matrix"
   ]
  },
  {
   "cell_type": "markdown",
   "id": "af4c0bca-88fa-4cfb-83b8-f6250ab72ebd",
   "metadata": {},
   "source": [
    "**np.random.randn:**\n",
    "\n",
    "- `Distribution:` It generates random numbers from a standard normal distribution (mean = 0, standard deviation = 1).\n",
    "- `Arguments:` You pass the dimensions of the array you want as arguments (e.g., np.random.randn(3, 3) for a 3x3 matrix).\n",
    "- `Values:` The values are more likely to be close to 0, with a probability decreasing as you move away from 0. It follows a bell-shaped curve, also known as a normal or Gaussian distribution."
   ]
  },
  {
   "cell_type": "code",
   "execution_count": 7,
   "id": "15fc7ae6-23e6-4fdf-a822-b16228629548",
   "metadata": {},
   "outputs": [
    {
     "data": {
      "text/plain": [
       "array([[-1.31069239, -0.03565312, -2.29928603],\n",
       "       [ 0.63276527, -1.04554152,  1.22646968],\n",
       "       [-0.96589129,  0.75365862,  0.37431484]])"
      ]
     },
     "execution_count": 7,
     "metadata": {},
     "output_type": "execute_result"
    }
   ],
   "source": [
    "random_matrix_normal = np.random.randn(3, 3)\n",
    "random_matrix_normal"
   ]
  },
  {
   "cell_type": "code",
   "execution_count": null,
   "id": "a5231cbc-9130-4b25-8f25-a1fe0751c87a",
   "metadata": {},
   "outputs": [],
   "source": []
  },
  {
   "cell_type": "markdown",
   "id": "0b052ba3-064c-4919-8c1e-0c6b2e562ad9",
   "metadata": {},
   "source": [
    "# Q9. Write code to increase the dimension of the following array?\n",
    "[[1, 2, 3, 4]\n",
    "\n",
    "[5, 6, 7, 8],\n",
    "\n",
    "[9, 10, 11, 12]]"
   ]
  },
  {
   "cell_type": "code",
   "execution_count": 8,
   "id": "81fb27ae-c752-407c-99b4-e685087e8f72",
   "metadata": {},
   "outputs": [
    {
     "name": "stdout",
     "output_type": "stream",
     "text": [
      "Original Array Shape: (3, 4)\n",
      "Expanded Array Shape: (3, 4, 1)\n"
     ]
    }
   ],
   "source": [
    "# Ans:9 \n",
    "\n",
    "arr = np.array([[1, 2, 3, 4],\n",
    "                [5, 6, 7, 8],\n",
    "                [9, 10, 11, 12]])\n",
    "\n",
    "# Increase the dimension using numpy.expand_dims\n",
    "expanded_array = np.expand_dims(arr, axis=2)\n",
    "\n",
    "print(\"Original Array Shape:\", arr.shape)\n",
    "print(\"Expanded Array Shape:\", expanded_array.shape)"
   ]
  },
  {
   "cell_type": "code",
   "execution_count": null,
   "id": "b7c4ad5e-1db5-4bda-adf1-0e96305bc743",
   "metadata": {},
   "outputs": [],
   "source": []
  },
  {
   "cell_type": "markdown",
   "id": "c7650a9f-b428-4e6b-a547-9b996c0b09db",
   "metadata": {},
   "source": [
    "# Q10. How to transpose the following array in NumPy?\n",
    "[[1, 2, 3, 4]\n",
    "\n",
    " [5, 6, 7, 8],\n",
    "\n",
    " [9, 10, 11, 12]]"
   ]
  },
  {
   "cell_type": "code",
   "execution_count": 9,
   "id": "fc797a51-b9e2-45dc-9b4d-65fd5de1c855",
   "metadata": {},
   "outputs": [
    {
     "name": "stdout",
     "output_type": "stream",
     "text": [
      "[[ 1  5  9]\n",
      " [ 2  6 10]\n",
      " [ 3  7 11]\n",
      " [ 4  8 12]]\n"
     ]
    }
   ],
   "source": [
    "# Ans: 10 \n",
    "\n",
    "arr = np.array([[1, 2, 3, 4],\n",
    "                [5, 6, 7, 8],\n",
    "                [9, 10, 11, 12]])\n",
    "\n",
    "# transposed array \n",
    "trans = arr.T\n",
    "print(trans)"
   ]
  },
  {
   "cell_type": "code",
   "execution_count": null,
   "id": "6ef210bc-0307-4593-bfee-a62f4e6240d1",
   "metadata": {},
   "outputs": [],
   "source": []
  },
  {
   "cell_type": "markdown",
   "id": "00ac9663-937f-49f0-9e47-2438ca107e22",
   "metadata": {},
   "source": [
    "# Q11. Consider the following matrix:\n",
    "`Matrix A:` [[1, 2, 3, 4] [5, 6, 7, 8],[9, 10, 11, 12]]\n",
    "\n",
    "`Matrix B:` [[1, 2, 3, 4] [5, 6, 7, 8],[9, 10, 11, 12]]\n",
    "\n",
    "**Perform the following operation using Python1**\n",
    "1. Index wise multiplication\n",
    "2. Matrix multiplication\n",
    "3. Add both the matrics\n",
    "4. Subtract matrix B from A\n",
    "5. Divide matrix B by A"
   ]
  },
  {
   "cell_type": "code",
   "execution_count": 10,
   "id": "2f348f44-c2ae-4db2-a350-cb52e62894d4",
   "metadata": {},
   "outputs": [
    {
     "name": "stdout",
     "output_type": "stream",
     "text": [
      "1. Index wise multiplication:\n",
      "[[  1   4   9  16]\n",
      " [ 25  36  49  64]\n",
      " [ 81 100 121 144]]\n",
      "\n",
      "2. Matrix multiplication:\n",
      "[[ 30  70 110]\n",
      " [ 70 174 278]\n",
      " [110 278 446]]\n",
      "\n",
      "3. Matrix addition:\n",
      "[[ 2  4  6  8]\n",
      " [10 12 14 16]\n",
      " [18 20 22 24]]\n",
      "\n",
      "4. Matrix subtraction:\n",
      "[[0 0 0 0]\n",
      " [0 0 0 0]\n",
      " [0 0 0 0]]\n",
      "\n",
      "5. Matrix division:\n",
      "[[1. 1. 1. 1.]\n",
      " [1. 1. 1. 1.]\n",
      " [1. 1. 1. 1.]]\n"
     ]
    }
   ],
   "source": [
    "# Ans: 11\n",
    "matrix_A = np.array([[1, 2, 3, 4],\n",
    "                     [5, 6, 7, 8],\n",
    "                     [9, 10, 11, 12]])\n",
    "\n",
    "matrix_B = np.array([[1, 2, 3, 4],\n",
    "                     [5, 6, 7, 8],\n",
    "                     [9, 10, 11, 12]])\n",
    "\n",
    "\n",
    "# 1. Index wise multiplication\n",
    "index_wise_multiplication = matrix_A * matrix_B\n",
    "\n",
    "# 2. Matrix multiplication\n",
    "matrix_multiplication = np.dot(matrix_A, matrix_B.T)  # Transposing B for proper multiplication\n",
    "\n",
    "# 3. Add both matrices\n",
    "matrix_addition = matrix_A + matrix_B\n",
    "\n",
    "# 4. Subtract matrix B from A\n",
    "matrix_subtraction = matrix_A - matrix_B\n",
    "\n",
    "# 5. Divide matrix B by A\n",
    "matrix_division = np.divide(matrix_B, matrix_A)\n",
    "\n",
    "# Display results\n",
    "print(\"1. Index wise multiplication:\")\n",
    "print(index_wise_multiplication)\n",
    "\n",
    "print(\"\\n2. Matrix multiplication:\")\n",
    "print(matrix_multiplication)\n",
    "\n",
    "print(\"\\n3. Matrix addition:\")\n",
    "print(matrix_addition)\n",
    "\n",
    "print(\"\\n4. Matrix subtraction:\")\n",
    "print(matrix_subtraction)\n",
    "\n",
    "print(\"\\n5. Matrix division:\")\n",
    "print(matrix_division)"
   ]
  },
  {
   "cell_type": "code",
   "execution_count": null,
   "id": "da50b3d5-e187-4f8a-82eb-e46bbeb22d3e",
   "metadata": {},
   "outputs": [],
   "source": []
  },
  {
   "cell_type": "markdown",
   "id": "be1535f3-8f31-475b-b243-8407b3acd425",
   "metadata": {},
   "source": [
    "# Q12. Which function in Numpy can be used to swap the byte order of an array?"
   ]
  },
  {
   "cell_type": "markdown",
   "id": "d07f7113-bbd8-4279-a954-cd7e54bf1289",
   "metadata": {},
   "source": [
    "# Ans:12\n",
    "\n",
    "In NumPy, the byteswap function can be used to swap the byte order of an array. The byteswap function swaps the byte order of the elements in the array, and you can specify the byte order using the byteorder parameter. The default value of byteorder is '>', which means big-endian byte order."
   ]
  },
  {
   "cell_type": "code",
   "execution_count": 11,
   "id": "d4373a76-acb4-4786-bdd1-e2eec541e1a7",
   "metadata": {},
   "outputs": [
    {
     "name": "stdout",
     "output_type": "stream",
     "text": [
      "Original Array:\n",
      "[1 2 3 4]\n",
      "\n",
      "Swapped Array:\n",
      "[16777216 33554432 50331648 67108864]\n"
     ]
    }
   ],
   "source": [
    "# Creating an array with a specific byte order\n",
    "original_array = np.array([1, 2, 3, 4], dtype='int32')\n",
    "\n",
    "# Swaping the byte order using byteswap\n",
    "swapped_array = original_array.byteswap()\n",
    "\n",
    "print(\"Original Array:\")\n",
    "print(original_array)\n",
    "\n",
    "print(\"\\nSwapped Array:\")\n",
    "print(swapped_array)"
   ]
  },
  {
   "cell_type": "code",
   "execution_count": null,
   "id": "60796b58-960b-4b91-8dc0-cf12d3c43bcf",
   "metadata": {},
   "outputs": [],
   "source": []
  },
  {
   "cell_type": "markdown",
   "id": "ede4b16d-ee41-49e0-8118-5be912dcb50b",
   "metadata": {},
   "source": [
    "# Q13. What is the significance of the np.linalg.inv function?"
   ]
  },
  {
   "cell_type": "markdown",
   "id": "d0e6c85d-4098-4731-8738-22765bb3be5d",
   "metadata": {},
   "source": [
    "# Ans: 13\n",
    "\n",
    "The np.linalg.inv function in NumPy is used to compute the inverse of a square matrix. It's important for solving systems of linear equations, computing eigenvalues/eigenvectors, and assessing the numerical stability of matrix operations. The inverse of a matrix \n",
    "A is denoted as A^-1 and satisfies\n",
    "\n",
    "**A x A^-1 = A^-1 x A = I**\n",
    "\n",
    "where I is the identity matrix. The function is specifically designed for square matrices and assumes they are of full rank.\n",
    "\n",
    "\n",
    "\n",
    "\n",
    "\n"
   ]
  },
  {
   "cell_type": "code",
   "execution_count": null,
   "id": "43e434a7-8a17-400b-839c-fc8cb50735ca",
   "metadata": {},
   "outputs": [],
   "source": []
  },
  {
   "cell_type": "markdown",
   "id": "d4a67a0e-97c1-47a4-b732-bf822a9d2265",
   "metadata": {},
   "source": [
    "# Q14. What does the np.reshape function do, and how is it used?"
   ]
  },
  {
   "cell_type": "markdown",
   "id": "9ba0bb89-a504-4640-ba02-3fd26e618374",
   "metadata": {},
   "source": [
    "# Ans: 14\n",
    "\n",
    "The np.reshape function in NumPy is used to change the shape of an array without changing its data. It allows you to rearrange the elements of an array into a new shape while maintaining the same data."
   ]
  },
  {
   "cell_type": "code",
   "execution_count": 12,
   "id": "9c68529d-066c-4134-9886-a6c11e8c8a9c",
   "metadata": {},
   "outputs": [
    {
     "name": "stdout",
     "output_type": "stream",
     "text": [
      "Original Array:\n",
      "[[1 2 3]\n",
      " [4 5 6]]\n",
      "\n",
      "Reshaped Array:\n",
      "[1 2 3 4 5 6]\n"
     ]
    }
   ],
   "source": [
    "arr = np.array([[1, 2, 3],\n",
    "                [4, 5, 6]])\n",
    "\n",
    "reshaped_arr = np.reshape(arr,(6,))\n",
    "\n",
    "\n",
    "print(\"Original Array:\")\n",
    "print(arr)\n",
    "\n",
    "print(\"\\nReshaped Array:\")\n",
    "print(reshaped_arr)"
   ]
  },
  {
   "cell_type": "code",
   "execution_count": null,
   "id": "be90ee6c-54d9-4c14-a20d-055990ed96d8",
   "metadata": {},
   "outputs": [],
   "source": []
  },
  {
   "cell_type": "markdown",
   "id": "d3d2db1b-0d4d-4418-aed2-c6e8134172bc",
   "metadata": {},
   "source": [
    "# Q15. What is broadcasting in Numpy?"
   ]
  },
  {
   "cell_type": "markdown",
   "id": "97f34e7d-8597-4843-b8a6-27d65e557d6f",
   "metadata": {},
   "source": [
    "# Ans: 15\n",
    "\n",
    "Broadcasting in NumPy is a feature that enables efficient operations on arrays with different shapes. When performing element-wise operations, NumPy automatically adjusts the shapes of the arrays, allowing them to be compatible for computation. Broadcasting occurs when dimensions are either equal or one of them is 1. In such cases, NumPy virtually replicates the smaller array to match the shape of the larger one.\n",
    "\n",
    "This feature simplifies array operations, eliminating the need for explicit loops or manual replication of data. Broadcasting is particularly valuable in scenarios where arrays of different shapes need to be combined, making code more concise and readable."
   ]
  },
  {
   "cell_type": "code",
   "execution_count": 13,
   "id": "0ee06be3-a72f-48cc-b532-1705a042c8e5",
   "metadata": {},
   "outputs": [
    {
     "name": "stdout",
     "output_type": "stream",
     "text": [
      "[[11 22 33]\n",
      " [14 25 36]]\n"
     ]
    }
   ],
   "source": [
    "# For example, consider adding a 1D array to a 2D array:\n",
    "A = np.array([[1, 2, 3],\n",
    "              [4, 5, 6]])\n",
    "\n",
    "B = np.array([10, 20, 30])\n",
    "\n",
    "result = A + B\n",
    "print(result)"
   ]
  },
  {
   "cell_type": "code",
   "execution_count": null,
   "id": "859d6acc-75e5-48a8-af25-dc4eebf1f2fe",
   "metadata": {},
   "outputs": [],
   "source": []
  },
  {
   "cell_type": "code",
   "execution_count": null,
   "id": "66fa994a-cedf-45d3-8e4c-6b6af81ad621",
   "metadata": {},
   "outputs": [],
   "source": []
  }
 ],
 "metadata": {
  "kernelspec": {
   "display_name": "Python 3 (ipykernel)",
   "language": "python",
   "name": "python3"
  },
  "language_info": {
   "codemirror_mode": {
    "name": "ipython",
    "version": 3
   },
   "file_extension": ".py",
   "mimetype": "text/x-python",
   "name": "python",
   "nbconvert_exporter": "python",
   "pygments_lexer": "ipython3",
   "version": "3.10.8"
  }
 },
 "nbformat": 4,
 "nbformat_minor": 5
}
